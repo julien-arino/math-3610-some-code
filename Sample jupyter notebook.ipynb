{
 "cells": [
  {
   "cell_type": "markdown",
   "id": "1e31c892",
   "metadata": {},
   "source": [
    "This is markdown text, it can do $\\LaTeX$, e.g.,\n",
    "$$\n",
    "\\frac{d}{dt}N(t) = rN(t)\\left(1-\\frac{N(t)}{K}\\right).\n",
    "$$"
   ]
  },
  {
   "cell_type": "code",
   "execution_count": 10,
   "id": "8d291296",
   "metadata": {},
   "outputs": [],
   "source": [
    "# This is R code..."
   ]
  },
  {
   "cell_type": "markdown",
   "id": "0a63befd",
   "metadata": {},
   "source": [
    "Let us install some libraries if they are not present yet..."
   ]
  },
  {
   "cell_type": "code",
   "execution_count": 11,
   "id": "e3509d07",
   "metadata": {},
   "outputs": [
    {
     "name": "stderr",
     "output_type": "stream",
     "text": [
      "Loading required package: latex2exp\n",
      "\n",
      "Warning message in library(package, lib.loc = lib.loc, character.only = TRUE, logical.return = TRUE, :\n",
      "“there is no package called ‘latex2exp’”\n",
      "Installing package into ‘/home/jupyter/R/x86_64-pc-linux-gnu-library/4.1’\n",
      "(as ‘lib’ is unspecified)\n",
      "\n"
     ]
    }
   ],
   "source": [
    "required_liraries = c(\n",
    "  \"countrycode\",\n",
    "  \"deSolve\",\n",
    "  \"formatR\",\n",
    "  \"GA\",\n",
    "  \"htmltab\",\n",
    "  \"ISOweek\",\n",
    "  \"knitr\",\n",
    "    \"latex2exp\",\n",
    "  \"lubridate\",\n",
    "  \"magrittr\",\n",
    "  \"measurements\",\n",
    "  \"methods\",\n",
    "  \"sqldf\"\n",
    ")\n",
    "\n",
    "for (l in required_liraries) {\n",
    "  installed = require(l, character.only = TRUE)\n",
    "  if (!installed) {\n",
    "    install.packages(l)\n",
    "  }\n",
    "}"
   ]
  },
  {
   "cell_type": "code",
   "execution_count": null,
   "id": "389d537e",
   "metadata": {},
   "outputs": [],
   "source": []
  }
 ],
 "metadata": {
  "kernelspec": {
   "display_name": "R",
   "language": "R",
   "name": "ir"
  },
  "language_info": {
   "codemirror_mode": "r",
   "file_extension": ".r",
   "mimetype": "text/x-r-source",
   "name": "R",
   "pygments_lexer": "r",
   "version": "4.1.2"
  }
 },
 "nbformat": 4,
 "nbformat_minor": 5
}
